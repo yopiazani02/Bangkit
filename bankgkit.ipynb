{
  "nbformat": 4,
  "nbformat_minor": 0,
  "metadata": {
    "colab": {
      "name": "bankgkit.ipynb",
      "provenance": [],
      "include_colab_link": true
    },
    "kernelspec": {
      "name": "python3",
      "display_name": "Python 3"
    }
  },
  "cells": [
    {
      "cell_type": "markdown",
      "metadata": {
        "id": "view-in-github",
        "colab_type": "text"
      },
      "source": [
        "<a href=\"https://colab.research.google.com/github/yopiazani02/Bangkit/blob/master/bankgkit.ipynb\" target=\"_parent\"><img src=\"https://colab.research.google.com/assets/colab-badge.svg\" alt=\"Open In Colab\"/></a>"
      ]
    },
    {
      "cell_type": "code",
      "metadata": {
        "id": "XfwpyYGB2ZOg",
        "colab_type": "code",
        "outputId": "5ef3dd7a-31cd-472a-b417-dc373b4a3624",
        "colab": {
          "base_uri": "https://localhost:8080/",
          "height": 34
        }
      },
      "source": [
        "!pip install -q git+https://github.com/tensorflow/docs"
      ],
      "execution_count": 2,
      "outputs": [
        {
          "output_type": "stream",
          "text": [
            "  Building wheel for tensorflow-docs (setup.py) ... \u001b[?25l\u001b[?25hdone\n"
          ],
          "name": "stdout"
        }
      ]
    },
    {
      "cell_type": "code",
      "metadata": {
        "id": "ULWDXVwiPZ4D",
        "colab_type": "code",
        "colab": {}
      },
      "source": [
        "%tensorflow_version 2.x"
      ],
      "execution_count": 0,
      "outputs": []
    },
    {
      "cell_type": "code",
      "metadata": {
        "id": "30WhIrkT3wUs",
        "colab_type": "code",
        "colab": {}
      },
      "source": [
        "from datetime import datetime,date\n",
        "import pandas as pd\n",
        "from sklearn.preprocessing import LabelEncoder\n",
        "\n",
        "import tensorflow as tf\n",
        "\n",
        "from tensorflow import keras\n",
        "from tensorflow.keras import layers\n",
        "import tensorflow_docs as tfdocs\n",
        "import tensorflow_docs.plots\n",
        "import tensorflow_docs.modeling"
      ],
      "execution_count": 0,
      "outputs": []
    },
    {
      "cell_type": "code",
      "metadata": {
        "id": "F3rjc4WIJiHs",
        "colab_type": "code",
        "colab": {
          "base_uri": "https://localhost:8080/",
          "height": 122
        },
        "outputId": "16c399ad-9107-47b5-8c52-20a327b06408"
      },
      "source": [
        "from google.colab import drive\n",
        "drive.mount('/content/drive')"
      ],
      "execution_count": 6,
      "outputs": [
        {
          "output_type": "stream",
          "text": [
            "Go to this URL in a browser: https://accounts.google.com/o/oauth2/auth?client_id=947318989803-6bn6qk8qdgf4n4g3pfee6491hc0brc4i.apps.googleusercontent.com&redirect_uri=urn%3aietf%3awg%3aoauth%3a2.0%3aoob&response_type=code&scope=email%20https%3a%2f%2fwww.googleapis.com%2fauth%2fdocs.test%20https%3a%2f%2fwww.googleapis.com%2fauth%2fdrive%20https%3a%2f%2fwww.googleapis.com%2fauth%2fdrive.photos.readonly%20https%3a%2f%2fwww.googleapis.com%2fauth%2fpeopleapi.readonly\n",
            "\n",
            "Enter your authorization code:\n",
            "··········\n",
            "Mounted at /content/drive\n"
          ],
          "name": "stdout"
        }
      ]
    },
    {
      "cell_type": "code",
      "metadata": {
        "id": "5_Csn2wZPqAO",
        "colab_type": "code",
        "outputId": "fefba18e-eb37-41c4-ce47-5e7808a376f6",
        "colab": {
          "base_uri": "https://localhost:8080/",
          "height": 864
        }
      },
      "source": [
        "data = pd.read_csv('/content/drive/My Drive/Colab Notebooks/JKM (1).txt',sep=\"|\")\n",
        "data"
      ],
      "execution_count": 42,
      "outputs": [
        {
          "output_type": "execute_result",
          "data": {
            "text/html": [
              "<div>\n",
              "<style scoped>\n",
              "    .dataframe tbody tr th:only-of-type {\n",
              "        vertical-align: middle;\n",
              "    }\n",
              "\n",
              "    .dataframe tbody tr th {\n",
              "        vertical-align: top;\n",
              "    }\n",
              "\n",
              "    .dataframe thead th {\n",
              "        text-align: right;\n",
              "    }\n",
              "</style>\n",
              "<table border=\"1\" class=\"dataframe\">\n",
              "  <thead>\n",
              "    <tr style=\"text-align: right;\">\n",
              "      <th></th>\n",
              "      <th>ID_AGE</th>\n",
              "      <th>ID_TK</th>\n",
              "      <th>KODE_KANTOR</th>\n",
              "      <th>TGL_LAHIR</th>\n",
              "      <th>TGL_KEPESERTAAN</th>\n",
              "      <th>JENIS_KELAMIN</th>\n",
              "      <th>KODE_KLAIM</th>\n",
              "      <th>KET_KLAIM</th>\n",
              "      <th>TGL_AGENDA</th>\n",
              "      <th>TGL_PENETAPAN</th>\n",
              "      <th>TGL_BAYAR</th>\n",
              "      <th>TGL_KEMATIAN</th>\n",
              "      <th>STATUS_AGENDA</th>\n",
              "      <th>STATUS_PENETAPAN</th>\n",
              "      <th>KET_STATUS_AGENDA</th>\n",
              "      <th>X_RINCIAN_MNFT</th>\n",
              "      <th>X_BIAYA_DISETUJUI</th>\n",
              "    </tr>\n",
              "  </thead>\n",
              "  <tbody>\n",
              "    <tr>\n",
              "      <th>0</th>\n",
              "      <td>AGE10573</td>\n",
              "      <td>TK1</td>\n",
              "      <td>B00</td>\n",
              "      <td>05/10/1971</td>\n",
              "      <td>01/08/2011</td>\n",
              "      <td>L</td>\n",
              "      <td>B</td>\n",
              "      <td>MENINGGAL DUNIA PADA SAAT KEPESERTAAN AKTIF</td>\n",
              "      <td>15/12/2015</td>\n",
              "      <td>15/12/2015</td>\n",
              "      <td>15/12/2015</td>\n",
              "      <td>NaN</td>\n",
              "      <td>SELESAI</td>\n",
              "      <td>SELESAI</td>\n",
              "      <td>SELESAI</td>\n",
              "      <td>SANTUNAN BERKALA</td>\n",
              "      <td>4800000.0</td>\n",
              "    </tr>\n",
              "    <tr>\n",
              "      <th>1</th>\n",
              "      <td>AGE10573</td>\n",
              "      <td>TK1</td>\n",
              "      <td>B00</td>\n",
              "      <td>05/10/1971</td>\n",
              "      <td>01/08/2011</td>\n",
              "      <td>L</td>\n",
              "      <td>B</td>\n",
              "      <td>MENINGGAL DUNIA PADA SAAT KEPESERTAAN AKTIF</td>\n",
              "      <td>15/12/2015</td>\n",
              "      <td>15/12/2015</td>\n",
              "      <td>15/12/2015</td>\n",
              "      <td>NaN</td>\n",
              "      <td>SELESAI</td>\n",
              "      <td>SELESAI</td>\n",
              "      <td>SELESAI</td>\n",
              "      <td>BIAYA PEMAKAMAN</td>\n",
              "      <td>3000000.0</td>\n",
              "    </tr>\n",
              "    <tr>\n",
              "      <th>2</th>\n",
              "      <td>AGE10573</td>\n",
              "      <td>TK1</td>\n",
              "      <td>B00</td>\n",
              "      <td>05/10/1971</td>\n",
              "      <td>01/08/2011</td>\n",
              "      <td>L</td>\n",
              "      <td>B</td>\n",
              "      <td>MENINGGAL DUNIA PADA SAAT KEPESERTAAN AKTIF</td>\n",
              "      <td>15/12/2015</td>\n",
              "      <td>15/12/2015</td>\n",
              "      <td>15/12/2015</td>\n",
              "      <td>NaN</td>\n",
              "      <td>SELESAI</td>\n",
              "      <td>SELESAI</td>\n",
              "      <td>SELESAI</td>\n",
              "      <td>SANTUNAN KEMATIAN</td>\n",
              "      <td>16200000.0</td>\n",
              "    </tr>\n",
              "    <tr>\n",
              "      <th>3</th>\n",
              "      <td>AGE10573</td>\n",
              "      <td>TK1</td>\n",
              "      <td>B00</td>\n",
              "      <td>05/10/1971</td>\n",
              "      <td>01/08/2011</td>\n",
              "      <td>L</td>\n",
              "      <td>B</td>\n",
              "      <td>MENINGGAL DUNIA PADA SAAT KEPESERTAAN AKTIF</td>\n",
              "      <td>15/12/2015</td>\n",
              "      <td>15/12/2015</td>\n",
              "      <td>15/12/2015</td>\n",
              "      <td>NaN</td>\n",
              "      <td>SELESAI</td>\n",
              "      <td>SELESAI</td>\n",
              "      <td>SELESAI</td>\n",
              "      <td>BEASISWA PENDIDIKAN</td>\n",
              "      <td>0.0</td>\n",
              "    </tr>\n",
              "    <tr>\n",
              "      <th>4</th>\n",
              "      <td>AGE12993</td>\n",
              "      <td>TK5</td>\n",
              "      <td>J00</td>\n",
              "      <td>05/06/1955</td>\n",
              "      <td>01/07/2011</td>\n",
              "      <td>L</td>\n",
              "      <td>B</td>\n",
              "      <td>MENINGGAL DUNIA PADA SAAT KEPESERTAAN AKTIF</td>\n",
              "      <td>23/12/2015</td>\n",
              "      <td>23/12/2015</td>\n",
              "      <td>28/12/2015</td>\n",
              "      <td>NaN</td>\n",
              "      <td>SELESAI</td>\n",
              "      <td>SELESAI</td>\n",
              "      <td>SELESAI</td>\n",
              "      <td>SANTUNAN KEMATIAN</td>\n",
              "      <td>16200000.0</td>\n",
              "    </tr>\n",
              "    <tr>\n",
              "      <th>...</th>\n",
              "      <td>...</td>\n",
              "      <td>...</td>\n",
              "      <td>...</td>\n",
              "      <td>...</td>\n",
              "      <td>...</td>\n",
              "      <td>...</td>\n",
              "      <td>...</td>\n",
              "      <td>...</td>\n",
              "      <td>...</td>\n",
              "      <td>...</td>\n",
              "      <td>...</td>\n",
              "      <td>...</td>\n",
              "      <td>...</td>\n",
              "      <td>...</td>\n",
              "      <td>...</td>\n",
              "      <td>...</td>\n",
              "      <td>...</td>\n",
              "    </tr>\n",
              "    <tr>\n",
              "      <th>14843</th>\n",
              "      <td>AGE11585</td>\n",
              "      <td>TK14785</td>\n",
              "      <td>N02</td>\n",
              "      <td>NaN</td>\n",
              "      <td>NaN</td>\n",
              "      <td>NaN</td>\n",
              "      <td>2</td>\n",
              "      <td>JKM JAKON</td>\n",
              "      <td>18/12/2015</td>\n",
              "      <td>18/12/2015</td>\n",
              "      <td>18/12/2015</td>\n",
              "      <td>NaN</td>\n",
              "      <td>SELESAI</td>\n",
              "      <td>SELESAI</td>\n",
              "      <td>SELESAI</td>\n",
              "      <td>BEASISWA PENDIDIKAN</td>\n",
              "      <td>0.0</td>\n",
              "    </tr>\n",
              "    <tr>\n",
              "      <th>14844</th>\n",
              "      <td>AGE12357</td>\n",
              "      <td>TK14785</td>\n",
              "      <td>N00</td>\n",
              "      <td>NaN</td>\n",
              "      <td>NaN</td>\n",
              "      <td>NaN</td>\n",
              "      <td>2</td>\n",
              "      <td>JKM JAKON</td>\n",
              "      <td>21/12/2015</td>\n",
              "      <td>21/12/2015</td>\n",
              "      <td>22/12/2015</td>\n",
              "      <td>NaN</td>\n",
              "      <td>SELESAI</td>\n",
              "      <td>SELESAI</td>\n",
              "      <td>SELESAI</td>\n",
              "      <td>BEASISWA PENDIDIKAN</td>\n",
              "      <td>0.0</td>\n",
              "    </tr>\n",
              "    <tr>\n",
              "      <th>14845</th>\n",
              "      <td>AGE12357</td>\n",
              "      <td>TK14785</td>\n",
              "      <td>N00</td>\n",
              "      <td>NaN</td>\n",
              "      <td>NaN</td>\n",
              "      <td>NaN</td>\n",
              "      <td>2</td>\n",
              "      <td>JKM JAKON</td>\n",
              "      <td>21/12/2015</td>\n",
              "      <td>21/12/2015</td>\n",
              "      <td>22/12/2015</td>\n",
              "      <td>NaN</td>\n",
              "      <td>SELESAI</td>\n",
              "      <td>SELESAI</td>\n",
              "      <td>SELESAI</td>\n",
              "      <td>BIAYA PEMAKAMAN</td>\n",
              "      <td>3000000.0</td>\n",
              "    </tr>\n",
              "    <tr>\n",
              "      <th>14846</th>\n",
              "      <td>AGE12357</td>\n",
              "      <td>TK14785</td>\n",
              "      <td>N00</td>\n",
              "      <td>NaN</td>\n",
              "      <td>NaN</td>\n",
              "      <td>NaN</td>\n",
              "      <td>2</td>\n",
              "      <td>JKM JAKON</td>\n",
              "      <td>21/12/2015</td>\n",
              "      <td>21/12/2015</td>\n",
              "      <td>22/12/2015</td>\n",
              "      <td>NaN</td>\n",
              "      <td>SELESAI</td>\n",
              "      <td>SELESAI</td>\n",
              "      <td>SELESAI</td>\n",
              "      <td>SANTUNAN BERKALA</td>\n",
              "      <td>4800000.0</td>\n",
              "    </tr>\n",
              "    <tr>\n",
              "      <th>14847</th>\n",
              "      <td>AGE2781</td>\n",
              "      <td>TK14785</td>\n",
              "      <td>B05</td>\n",
              "      <td>NaN</td>\n",
              "      <td>NaN</td>\n",
              "      <td>NaN</td>\n",
              "      <td>2</td>\n",
              "      <td>JKM JAKON</td>\n",
              "      <td>09/11/2015</td>\n",
              "      <td>09/11/2015</td>\n",
              "      <td>12/11/2015</td>\n",
              "      <td>NaN</td>\n",
              "      <td>SELESAI</td>\n",
              "      <td>SELESAI</td>\n",
              "      <td>SELESAI</td>\n",
              "      <td>BIAYA PEMAKAMAN</td>\n",
              "      <td>3000000.0</td>\n",
              "    </tr>\n",
              "  </tbody>\n",
              "</table>\n",
              "<p>14848 rows × 17 columns</p>\n",
              "</div>"
            ],
            "text/plain": [
              "         ID_AGE    ID_TK  ...       X_RINCIAN_MNFT X_BIAYA_DISETUJUI\n",
              "0      AGE10573      TK1  ...     SANTUNAN BERKALA         4800000.0\n",
              "1      AGE10573      TK1  ...      BIAYA PEMAKAMAN         3000000.0\n",
              "2      AGE10573      TK1  ...    SANTUNAN KEMATIAN        16200000.0\n",
              "3      AGE10573      TK1  ...  BEASISWA PENDIDIKAN               0.0\n",
              "4      AGE12993      TK5  ...    SANTUNAN KEMATIAN        16200000.0\n",
              "...         ...      ...  ...                  ...               ...\n",
              "14843  AGE11585  TK14785  ...  BEASISWA PENDIDIKAN               0.0\n",
              "14844  AGE12357  TK14785  ...  BEASISWA PENDIDIKAN               0.0\n",
              "14845  AGE12357  TK14785  ...      BIAYA PEMAKAMAN         3000000.0\n",
              "14846  AGE12357  TK14785  ...     SANTUNAN BERKALA         4800000.0\n",
              "14847   AGE2781  TK14785  ...      BIAYA PEMAKAMAN         3000000.0\n",
              "\n",
              "[14848 rows x 17 columns]"
            ]
          },
          "metadata": {
            "tags": []
          },
          "execution_count": 42
        }
      ]
    },
    {
      "cell_type": "code",
      "metadata": {
        "id": "_xOhexuLy0qa",
        "colab_type": "code",
        "outputId": "d4d468f8-d4b7-4e80-b4b8-17e99c4b25cd",
        "colab": {
          "base_uri": "https://localhost:8080/",
          "height": 323
        }
      },
      "source": [
        "data.isnull().sum()"
      ],
      "execution_count": 8,
      "outputs": [
        {
          "output_type": "execute_result",
          "data": {
            "text/plain": [
              "ID_AGE                   0\n",
              "ID_TK                    0\n",
              "KODE_KANTOR              0\n",
              "TGL_LAHIR               96\n",
              "TGL_KEPESERTAAN         72\n",
              "JENIS_KELAMIN           76\n",
              "KODE_KLAIM               0\n",
              "KET_KLAIM                0\n",
              "TGL_AGENDA               0\n",
              "TGL_PENETAPAN           36\n",
              "TGL_BAYAR              867\n",
              "TGL_KEMATIAN         14083\n",
              "STATUS_AGENDA            0\n",
              "STATUS_PENETAPAN         0\n",
              "KET_STATUS_AGENDA        0\n",
              "X_RINCIAN_MNFT           0\n",
              "X_BIAYA_DISETUJUI       18\n",
              "dtype: int64"
            ]
          },
          "metadata": {
            "tags": []
          },
          "execution_count": 8
        }
      ]
    },
    {
      "cell_type": "code",
      "metadata": {
        "id": "jXf1OKr92f1o",
        "colab_type": "code",
        "colab": {
          "base_uri": "https://localhost:8080/",
          "height": 1000
        },
        "outputId": "f19a3c1e-ccd7-44d5-fa61-847c38f96d5d"
      },
      "source": [
        "#remove nan value\n",
        "data = data.drop(columns=['TGL_KEMATIAN','TGL_BAYAR','ID_AGE','ID_TK','KODE_KANTOR']) #remove column TGL_KEMATIAN\n",
        "data = data.dropna() #remove row nan value (because dont have so many NaN value in column)\n",
        "data"
      ],
      "execution_count": 43,
      "outputs": [
        {
          "output_type": "execute_result",
          "data": {
            "text/html": [
              "<div>\n",
              "<style scoped>\n",
              "    .dataframe tbody tr th:only-of-type {\n",
              "        vertical-align: middle;\n",
              "    }\n",
              "\n",
              "    .dataframe tbody tr th {\n",
              "        vertical-align: top;\n",
              "    }\n",
              "\n",
              "    .dataframe thead th {\n",
              "        text-align: right;\n",
              "    }\n",
              "</style>\n",
              "<table border=\"1\" class=\"dataframe\">\n",
              "  <thead>\n",
              "    <tr style=\"text-align: right;\">\n",
              "      <th></th>\n",
              "      <th>TGL_LAHIR</th>\n",
              "      <th>TGL_KEPESERTAAN</th>\n",
              "      <th>JENIS_KELAMIN</th>\n",
              "      <th>KODE_KLAIM</th>\n",
              "      <th>KET_KLAIM</th>\n",
              "      <th>TGL_AGENDA</th>\n",
              "      <th>TGL_PENETAPAN</th>\n",
              "      <th>STATUS_AGENDA</th>\n",
              "      <th>STATUS_PENETAPAN</th>\n",
              "      <th>KET_STATUS_AGENDA</th>\n",
              "      <th>X_RINCIAN_MNFT</th>\n",
              "      <th>X_BIAYA_DISETUJUI</th>\n",
              "    </tr>\n",
              "  </thead>\n",
              "  <tbody>\n",
              "    <tr>\n",
              "      <th>0</th>\n",
              "      <td>05/10/1971</td>\n",
              "      <td>01/08/2011</td>\n",
              "      <td>L</td>\n",
              "      <td>B</td>\n",
              "      <td>MENINGGAL DUNIA PADA SAAT KEPESERTAAN AKTIF</td>\n",
              "      <td>15/12/2015</td>\n",
              "      <td>15/12/2015</td>\n",
              "      <td>SELESAI</td>\n",
              "      <td>SELESAI</td>\n",
              "      <td>SELESAI</td>\n",
              "      <td>SANTUNAN BERKALA</td>\n",
              "      <td>4800000.0</td>\n",
              "    </tr>\n",
              "    <tr>\n",
              "      <th>1</th>\n",
              "      <td>05/10/1971</td>\n",
              "      <td>01/08/2011</td>\n",
              "      <td>L</td>\n",
              "      <td>B</td>\n",
              "      <td>MENINGGAL DUNIA PADA SAAT KEPESERTAAN AKTIF</td>\n",
              "      <td>15/12/2015</td>\n",
              "      <td>15/12/2015</td>\n",
              "      <td>SELESAI</td>\n",
              "      <td>SELESAI</td>\n",
              "      <td>SELESAI</td>\n",
              "      <td>BIAYA PEMAKAMAN</td>\n",
              "      <td>3000000.0</td>\n",
              "    </tr>\n",
              "    <tr>\n",
              "      <th>2</th>\n",
              "      <td>05/10/1971</td>\n",
              "      <td>01/08/2011</td>\n",
              "      <td>L</td>\n",
              "      <td>B</td>\n",
              "      <td>MENINGGAL DUNIA PADA SAAT KEPESERTAAN AKTIF</td>\n",
              "      <td>15/12/2015</td>\n",
              "      <td>15/12/2015</td>\n",
              "      <td>SELESAI</td>\n",
              "      <td>SELESAI</td>\n",
              "      <td>SELESAI</td>\n",
              "      <td>SANTUNAN KEMATIAN</td>\n",
              "      <td>16200000.0</td>\n",
              "    </tr>\n",
              "    <tr>\n",
              "      <th>3</th>\n",
              "      <td>05/10/1971</td>\n",
              "      <td>01/08/2011</td>\n",
              "      <td>L</td>\n",
              "      <td>B</td>\n",
              "      <td>MENINGGAL DUNIA PADA SAAT KEPESERTAAN AKTIF</td>\n",
              "      <td>15/12/2015</td>\n",
              "      <td>15/12/2015</td>\n",
              "      <td>SELESAI</td>\n",
              "      <td>SELESAI</td>\n",
              "      <td>SELESAI</td>\n",
              "      <td>BEASISWA PENDIDIKAN</td>\n",
              "      <td>0.0</td>\n",
              "    </tr>\n",
              "    <tr>\n",
              "      <th>4</th>\n",
              "      <td>05/06/1955</td>\n",
              "      <td>01/07/2011</td>\n",
              "      <td>L</td>\n",
              "      <td>B</td>\n",
              "      <td>MENINGGAL DUNIA PADA SAAT KEPESERTAAN AKTIF</td>\n",
              "      <td>23/12/2015</td>\n",
              "      <td>23/12/2015</td>\n",
              "      <td>SELESAI</td>\n",
              "      <td>SELESAI</td>\n",
              "      <td>SELESAI</td>\n",
              "      <td>SANTUNAN KEMATIAN</td>\n",
              "      <td>16200000.0</td>\n",
              "    </tr>\n",
              "    <tr>\n",
              "      <th>...</th>\n",
              "      <td>...</td>\n",
              "      <td>...</td>\n",
              "      <td>...</td>\n",
              "      <td>...</td>\n",
              "      <td>...</td>\n",
              "      <td>...</td>\n",
              "      <td>...</td>\n",
              "      <td>...</td>\n",
              "      <td>...</td>\n",
              "      <td>...</td>\n",
              "      <td>...</td>\n",
              "      <td>...</td>\n",
              "    </tr>\n",
              "    <tr>\n",
              "      <th>14779</th>\n",
              "      <td>19/03/1984</td>\n",
              "      <td>01/09/2011</td>\n",
              "      <td>L</td>\n",
              "      <td>B</td>\n",
              "      <td>MENINGGAL DUNIA PADA SAAT KEPESERTAAN AKTIF</td>\n",
              "      <td>01/12/2015</td>\n",
              "      <td>01/12/2015</td>\n",
              "      <td>SELESAI</td>\n",
              "      <td>SELESAI</td>\n",
              "      <td>SELESAI</td>\n",
              "      <td>BEASISWA PENDIDIKAN</td>\n",
              "      <td>0.0</td>\n",
              "    </tr>\n",
              "    <tr>\n",
              "      <th>14780</th>\n",
              "      <td>23/10/1978</td>\n",
              "      <td>01/07/2011</td>\n",
              "      <td>L</td>\n",
              "      <td>B</td>\n",
              "      <td>MENINGGAL DUNIA PADA SAAT KEPESERTAAN AKTIF</td>\n",
              "      <td>22/12/2015</td>\n",
              "      <td>22/12/2015</td>\n",
              "      <td>SELESAI</td>\n",
              "      <td>SELESAI</td>\n",
              "      <td>SELESAI</td>\n",
              "      <td>BEASISWA PENDIDIKAN</td>\n",
              "      <td>0.0</td>\n",
              "    </tr>\n",
              "    <tr>\n",
              "      <th>14781</th>\n",
              "      <td>23/10/1978</td>\n",
              "      <td>01/07/2011</td>\n",
              "      <td>L</td>\n",
              "      <td>B</td>\n",
              "      <td>MENINGGAL DUNIA PADA SAAT KEPESERTAAN AKTIF</td>\n",
              "      <td>22/12/2015</td>\n",
              "      <td>22/12/2015</td>\n",
              "      <td>SELESAI</td>\n",
              "      <td>SELESAI</td>\n",
              "      <td>SELESAI</td>\n",
              "      <td>SANTUNAN KEMATIAN</td>\n",
              "      <td>16200000.0</td>\n",
              "    </tr>\n",
              "    <tr>\n",
              "      <th>14782</th>\n",
              "      <td>23/10/1978</td>\n",
              "      <td>01/07/2011</td>\n",
              "      <td>L</td>\n",
              "      <td>B</td>\n",
              "      <td>MENINGGAL DUNIA PADA SAAT KEPESERTAAN AKTIF</td>\n",
              "      <td>22/12/2015</td>\n",
              "      <td>22/12/2015</td>\n",
              "      <td>SELESAI</td>\n",
              "      <td>SELESAI</td>\n",
              "      <td>SELESAI</td>\n",
              "      <td>SANTUNAN BERKALA</td>\n",
              "      <td>4800000.0</td>\n",
              "    </tr>\n",
              "    <tr>\n",
              "      <th>14783</th>\n",
              "      <td>23/10/1978</td>\n",
              "      <td>01/07/2011</td>\n",
              "      <td>L</td>\n",
              "      <td>B</td>\n",
              "      <td>MENINGGAL DUNIA PADA SAAT KEPESERTAAN AKTIF</td>\n",
              "      <td>22/12/2015</td>\n",
              "      <td>22/12/2015</td>\n",
              "      <td>SELESAI</td>\n",
              "      <td>SELESAI</td>\n",
              "      <td>SELESAI</td>\n",
              "      <td>BIAYA PEMAKAMAN</td>\n",
              "      <td>3000000.0</td>\n",
              "    </tr>\n",
              "  </tbody>\n",
              "</table>\n",
              "<p>14706 rows × 12 columns</p>\n",
              "</div>"
            ],
            "text/plain": [
              "        TGL_LAHIR TGL_KEPESERTAAN  ...       X_RINCIAN_MNFT X_BIAYA_DISETUJUI\n",
              "0      05/10/1971      01/08/2011  ...     SANTUNAN BERKALA         4800000.0\n",
              "1      05/10/1971      01/08/2011  ...      BIAYA PEMAKAMAN         3000000.0\n",
              "2      05/10/1971      01/08/2011  ...    SANTUNAN KEMATIAN        16200000.0\n",
              "3      05/10/1971      01/08/2011  ...  BEASISWA PENDIDIKAN               0.0\n",
              "4      05/06/1955      01/07/2011  ...    SANTUNAN KEMATIAN        16200000.0\n",
              "...           ...             ...  ...                  ...               ...\n",
              "14779  19/03/1984      01/09/2011  ...  BEASISWA PENDIDIKAN               0.0\n",
              "14780  23/10/1978      01/07/2011  ...  BEASISWA PENDIDIKAN               0.0\n",
              "14781  23/10/1978      01/07/2011  ...    SANTUNAN KEMATIAN        16200000.0\n",
              "14782  23/10/1978      01/07/2011  ...     SANTUNAN BERKALA         4800000.0\n",
              "14783  23/10/1978      01/07/2011  ...      BIAYA PEMAKAMAN         3000000.0\n",
              "\n",
              "[14706 rows x 12 columns]"
            ]
          },
          "metadata": {
            "tags": []
          },
          "execution_count": 43
        }
      ]
    },
    {
      "cell_type": "code",
      "metadata": {
        "id": "AO1wjM0DxgLX",
        "colab_type": "code",
        "outputId": "c36fc6fa-13fd-4125-b696-5f28dbe78c0b",
        "colab": {
          "base_uri": "https://localhost:8080/",
          "height": 68
        }
      },
      "source": [
        "data['JENIS_KELAMIN'].unique()\n",
        "data['JENIS_KELAMIN'].value_counts()"
      ],
      "execution_count": 11,
      "outputs": [
        {
          "output_type": "execute_result",
          "data": {
            "text/plain": [
              "L    11993\n",
              "P     2713\n",
              "Name: JENIS_KELAMIN, dtype: int64"
            ]
          },
          "metadata": {
            "tags": []
          },
          "execution_count": 11
        }
      ]
    },
    {
      "cell_type": "code",
      "metadata": {
        "id": "sxirfkVKxdOd",
        "colab_type": "code",
        "outputId": "df717f17-406f-4103-d167-a41c503eb98d",
        "colab": {
          "base_uri": "https://localhost:8080/",
          "height": 102
        }
      },
      "source": [
        "data['KODE_KLAIM'].unique()\n",
        "data['KODE_KLAIM'].value_counts()"
      ],
      "execution_count": 12,
      "outputs": [
        {
          "output_type": "execute_result",
          "data": {
            "text/plain": [
              "B      11842\n",
              "B2      1363\n",
              "JKM      841\n",
              "B1       660\n",
              "Name: KODE_KLAIM, dtype: int64"
            ]
          },
          "metadata": {
            "tags": []
          },
          "execution_count": 12
        }
      ]
    },
    {
      "cell_type": "code",
      "metadata": {
        "id": "FMN7JOCTvvBS",
        "colab_type": "code",
        "outputId": "4a64bc3e-115b-4965-d26e-502f9493eab3",
        "colab": {
          "base_uri": "https://localhost:8080/",
          "height": 102
        }
      },
      "source": [
        "data['KET_KLAIM'].unique()\n",
        "data['KET_KLAIM'].value_counts()"
      ],
      "execution_count": 13,
      "outputs": [
        {
          "output_type": "execute_result",
          "data": {
            "text/plain": [
              "MENINGGAL DUNIA PADA SAAT KEPESERTAAN AKTIF                               11842\n",
              "MENINGGAL DUNIA DALAM MASA PERLINDUNGAN 6 BULAN, JHT SUDAH DI BAYARKAN     1363\n",
              "JKM                                                                         841\n",
              "MENINGGAL DUNIA DALAM MASA PERLINDUNGAN 6 BULAN                             660\n",
              "Name: KET_KLAIM, dtype: int64"
            ]
          },
          "metadata": {
            "tags": []
          },
          "execution_count": 13
        }
      ]
    },
    {
      "cell_type": "code",
      "metadata": {
        "id": "8_YcijxiwNnO",
        "colab_type": "code",
        "outputId": "74f71a69-89dd-4027-ec4f-7bd6664ece4f",
        "colab": {
          "base_uri": "https://localhost:8080/",
          "height": 102
        }
      },
      "source": [
        "data['STATUS_AGENDA'].unique()\n",
        "data['STATUS_AGENDA'].value_counts()"
      ],
      "execution_count": 14,
      "outputs": [
        {
          "output_type": "execute_result",
          "data": {
            "text/plain": [
              "SELESAI      13893\n",
              "BATAL          767\n",
              "PENETAPAN       25\n",
              "DISETUJUI       21\n",
              "Name: STATUS_AGENDA, dtype: int64"
            ]
          },
          "metadata": {
            "tags": []
          },
          "execution_count": 14
        }
      ]
    },
    {
      "cell_type": "code",
      "metadata": {
        "id": "LaFgc1CVwYj6",
        "colab_type": "code",
        "outputId": "e2530499-e890-4139-8900-65199bf07e5c",
        "colab": {
          "base_uri": "https://localhost:8080/",
          "height": 102
        }
      },
      "source": [
        "data['KET_STATUS_AGENDA'].unique()\n",
        "data['KET_STATUS_AGENDA'].value_counts()"
      ],
      "execution_count": 15,
      "outputs": [
        {
          "output_type": "execute_result",
          "data": {
            "text/plain": [
              "SELESAI      13893\n",
              "BATAL          767\n",
              "PENETAPAN       25\n",
              "DISETUJUI       21\n",
              "Name: KET_STATUS_AGENDA, dtype: int64"
            ]
          },
          "metadata": {
            "tags": []
          },
          "execution_count": 15
        }
      ]
    },
    {
      "cell_type": "code",
      "metadata": {
        "id": "Bc5NIlhGwfJl",
        "colab_type": "code",
        "outputId": "363fb364-08a7-45a3-f986-ef691e958c29",
        "colab": {
          "base_uri": "https://localhost:8080/",
          "height": 102
        }
      },
      "source": [
        "data['X_RINCIAN_MNFT'].unique()\n",
        "data['X_RINCIAN_MNFT'].value_counts()"
      ],
      "execution_count": 16,
      "outputs": [
        {
          "output_type": "execute_result",
          "data": {
            "text/plain": [
              "SANTUNAN KEMATIAN      3795\n",
              "BIAYA PEMAKAMAN        3794\n",
              "SANTUNAN BERKALA       3793\n",
              "BEASISWA PENDIDIKAN    3324\n",
              "Name: X_RINCIAN_MNFT, dtype: int64"
            ]
          },
          "metadata": {
            "tags": []
          },
          "execution_count": 16
        }
      ]
    },
    {
      "cell_type": "code",
      "metadata": {
        "id": "qA3SRk-3yS9-",
        "colab_type": "code",
        "colab": {}
      },
      "source": [
        "#crate function to calculate duration\n",
        "def calculate_duration(inputDate):\n",
        "    inputDate = datetime.strptime(inputDate, \"%d/%m/%Y\").date()\n",
        "    today = date.today()\n",
        "    return today.year - inputDate.year - ((today.month, today.day) < (inputDate.month, inputDate.day))"
      ],
      "execution_count": 0,
      "outputs": []
    },
    {
      "cell_type": "code",
      "metadata": {
        "id": "fcV2PTWdyUtq",
        "colab_type": "code",
        "colab": {}
      },
      "source": [
        "#convert variable has date format to duration\n",
        "data['TGL_LAHIR'] = data['TGL_LAHIR'].apply(calculate_duration)\n",
        "data = data.rename(columns={'TGL_LAHIR': 'UMUR'})\n",
        "data['TGL_KEPESERTAAN'] = data['TGL_KEPESERTAAN'].apply(calculate_duration)\n",
        "data = data.rename(columns={'TGL_KEPESERTAAN': 'LAMA_KEPESERTAAN'})\n",
        "data['TGL_PENETAPAN'] = data['TGL_PENETAPAN'].apply(calculate_duration)\n",
        "data = data.rename(columns={'TGL_PENETAPAN': 'LAMA_PENETAPAN'})\n",
        "data['TGL_AGENDA'] = data['TGL_AGENDA'].apply(calculate_duration)\n",
        "data = data.rename(columns={'TGL_AGENDA': 'LAMA_AGENDA'})"
      ],
      "execution_count": 0,
      "outputs": []
    },
    {
      "cell_type": "code",
      "metadata": {
        "id": "ez7Y8_S169jL",
        "colab_type": "code",
        "colab": {
          "base_uri": "https://localhost:8080/",
          "height": 1000
        },
        "outputId": "da3db1dc-7c65-4f30-ecfb-37e0b608ad59"
      },
      "source": [
        "data"
      ],
      "execution_count": 24,
      "outputs": [
        {
          "output_type": "execute_result",
          "data": {
            "text/html": [
              "<div>\n",
              "<style scoped>\n",
              "    .dataframe tbody tr th:only-of-type {\n",
              "        vertical-align: middle;\n",
              "    }\n",
              "\n",
              "    .dataframe tbody tr th {\n",
              "        vertical-align: top;\n",
              "    }\n",
              "\n",
              "    .dataframe thead th {\n",
              "        text-align: right;\n",
              "    }\n",
              "</style>\n",
              "<table border=\"1\" class=\"dataframe\">\n",
              "  <thead>\n",
              "    <tr style=\"text-align: right;\">\n",
              "      <th></th>\n",
              "      <th>UMUR</th>\n",
              "      <th>LAMA_KEPESERTAAN</th>\n",
              "      <th>JENIS_KELAMIN</th>\n",
              "      <th>KODE_KLAIM</th>\n",
              "      <th>KET_KLAIM</th>\n",
              "      <th>LAMA_AGENDA</th>\n",
              "      <th>LAMA_PENETAPAN</th>\n",
              "      <th>STATUS_AGENDA</th>\n",
              "      <th>STATUS_PENETAPAN</th>\n",
              "      <th>KET_STATUS_AGENDA</th>\n",
              "      <th>X_RINCIAN_MNFT</th>\n",
              "      <th>X_BIAYA_DISETUJUI</th>\n",
              "    </tr>\n",
              "  </thead>\n",
              "  <tbody>\n",
              "    <tr>\n",
              "      <th>0</th>\n",
              "      <td>48</td>\n",
              "      <td>8</td>\n",
              "      <td>L</td>\n",
              "      <td>B</td>\n",
              "      <td>MENINGGAL DUNIA PADA SAAT KEPESERTAAN AKTIF</td>\n",
              "      <td>4</td>\n",
              "      <td>4</td>\n",
              "      <td>SELESAI</td>\n",
              "      <td>SELESAI</td>\n",
              "      <td>SELESAI</td>\n",
              "      <td>SANTUNAN BERKALA</td>\n",
              "      <td>4800000.0</td>\n",
              "    </tr>\n",
              "    <tr>\n",
              "      <th>1</th>\n",
              "      <td>48</td>\n",
              "      <td>8</td>\n",
              "      <td>L</td>\n",
              "      <td>B</td>\n",
              "      <td>MENINGGAL DUNIA PADA SAAT KEPESERTAAN AKTIF</td>\n",
              "      <td>4</td>\n",
              "      <td>4</td>\n",
              "      <td>SELESAI</td>\n",
              "      <td>SELESAI</td>\n",
              "      <td>SELESAI</td>\n",
              "      <td>BIAYA PEMAKAMAN</td>\n",
              "      <td>3000000.0</td>\n",
              "    </tr>\n",
              "    <tr>\n",
              "      <th>2</th>\n",
              "      <td>48</td>\n",
              "      <td>8</td>\n",
              "      <td>L</td>\n",
              "      <td>B</td>\n",
              "      <td>MENINGGAL DUNIA PADA SAAT KEPESERTAAN AKTIF</td>\n",
              "      <td>4</td>\n",
              "      <td>4</td>\n",
              "      <td>SELESAI</td>\n",
              "      <td>SELESAI</td>\n",
              "      <td>SELESAI</td>\n",
              "      <td>SANTUNAN KEMATIAN</td>\n",
              "      <td>16200000.0</td>\n",
              "    </tr>\n",
              "    <tr>\n",
              "      <th>3</th>\n",
              "      <td>48</td>\n",
              "      <td>8</td>\n",
              "      <td>L</td>\n",
              "      <td>B</td>\n",
              "      <td>MENINGGAL DUNIA PADA SAAT KEPESERTAAN AKTIF</td>\n",
              "      <td>4</td>\n",
              "      <td>4</td>\n",
              "      <td>SELESAI</td>\n",
              "      <td>SELESAI</td>\n",
              "      <td>SELESAI</td>\n",
              "      <td>BEASISWA PENDIDIKAN</td>\n",
              "      <td>0.0</td>\n",
              "    </tr>\n",
              "    <tr>\n",
              "      <th>4</th>\n",
              "      <td>64</td>\n",
              "      <td>8</td>\n",
              "      <td>L</td>\n",
              "      <td>B</td>\n",
              "      <td>MENINGGAL DUNIA PADA SAAT KEPESERTAAN AKTIF</td>\n",
              "      <td>4</td>\n",
              "      <td>4</td>\n",
              "      <td>SELESAI</td>\n",
              "      <td>SELESAI</td>\n",
              "      <td>SELESAI</td>\n",
              "      <td>SANTUNAN KEMATIAN</td>\n",
              "      <td>16200000.0</td>\n",
              "    </tr>\n",
              "    <tr>\n",
              "      <th>...</th>\n",
              "      <td>...</td>\n",
              "      <td>...</td>\n",
              "      <td>...</td>\n",
              "      <td>...</td>\n",
              "      <td>...</td>\n",
              "      <td>...</td>\n",
              "      <td>...</td>\n",
              "      <td>...</td>\n",
              "      <td>...</td>\n",
              "      <td>...</td>\n",
              "      <td>...</td>\n",
              "      <td>...</td>\n",
              "    </tr>\n",
              "    <tr>\n",
              "      <th>14779</th>\n",
              "      <td>36</td>\n",
              "      <td>8</td>\n",
              "      <td>L</td>\n",
              "      <td>B</td>\n",
              "      <td>MENINGGAL DUNIA PADA SAAT KEPESERTAAN AKTIF</td>\n",
              "      <td>4</td>\n",
              "      <td>4</td>\n",
              "      <td>SELESAI</td>\n",
              "      <td>SELESAI</td>\n",
              "      <td>SELESAI</td>\n",
              "      <td>BEASISWA PENDIDIKAN</td>\n",
              "      <td>0.0</td>\n",
              "    </tr>\n",
              "    <tr>\n",
              "      <th>14780</th>\n",
              "      <td>41</td>\n",
              "      <td>8</td>\n",
              "      <td>L</td>\n",
              "      <td>B</td>\n",
              "      <td>MENINGGAL DUNIA PADA SAAT KEPESERTAAN AKTIF</td>\n",
              "      <td>4</td>\n",
              "      <td>4</td>\n",
              "      <td>SELESAI</td>\n",
              "      <td>SELESAI</td>\n",
              "      <td>SELESAI</td>\n",
              "      <td>BEASISWA PENDIDIKAN</td>\n",
              "      <td>0.0</td>\n",
              "    </tr>\n",
              "    <tr>\n",
              "      <th>14781</th>\n",
              "      <td>41</td>\n",
              "      <td>8</td>\n",
              "      <td>L</td>\n",
              "      <td>B</td>\n",
              "      <td>MENINGGAL DUNIA PADA SAAT KEPESERTAAN AKTIF</td>\n",
              "      <td>4</td>\n",
              "      <td>4</td>\n",
              "      <td>SELESAI</td>\n",
              "      <td>SELESAI</td>\n",
              "      <td>SELESAI</td>\n",
              "      <td>SANTUNAN KEMATIAN</td>\n",
              "      <td>16200000.0</td>\n",
              "    </tr>\n",
              "    <tr>\n",
              "      <th>14782</th>\n",
              "      <td>41</td>\n",
              "      <td>8</td>\n",
              "      <td>L</td>\n",
              "      <td>B</td>\n",
              "      <td>MENINGGAL DUNIA PADA SAAT KEPESERTAAN AKTIF</td>\n",
              "      <td>4</td>\n",
              "      <td>4</td>\n",
              "      <td>SELESAI</td>\n",
              "      <td>SELESAI</td>\n",
              "      <td>SELESAI</td>\n",
              "      <td>SANTUNAN BERKALA</td>\n",
              "      <td>4800000.0</td>\n",
              "    </tr>\n",
              "    <tr>\n",
              "      <th>14783</th>\n",
              "      <td>41</td>\n",
              "      <td>8</td>\n",
              "      <td>L</td>\n",
              "      <td>B</td>\n",
              "      <td>MENINGGAL DUNIA PADA SAAT KEPESERTAAN AKTIF</td>\n",
              "      <td>4</td>\n",
              "      <td>4</td>\n",
              "      <td>SELESAI</td>\n",
              "      <td>SELESAI</td>\n",
              "      <td>SELESAI</td>\n",
              "      <td>BIAYA PEMAKAMAN</td>\n",
              "      <td>3000000.0</td>\n",
              "    </tr>\n",
              "  </tbody>\n",
              "</table>\n",
              "<p>14706 rows × 12 columns</p>\n",
              "</div>"
            ],
            "text/plain": [
              "       UMUR  LAMA_KEPESERTAAN  ...       X_RINCIAN_MNFT X_BIAYA_DISETUJUI\n",
              "0        48                 8  ...     SANTUNAN BERKALA         4800000.0\n",
              "1        48                 8  ...      BIAYA PEMAKAMAN         3000000.0\n",
              "2        48                 8  ...    SANTUNAN KEMATIAN        16200000.0\n",
              "3        48                 8  ...  BEASISWA PENDIDIKAN               0.0\n",
              "4        64                 8  ...    SANTUNAN KEMATIAN        16200000.0\n",
              "...     ...               ...  ...                  ...               ...\n",
              "14779    36                 8  ...  BEASISWA PENDIDIKAN               0.0\n",
              "14780    41                 8  ...  BEASISWA PENDIDIKAN               0.0\n",
              "14781    41                 8  ...    SANTUNAN KEMATIAN        16200000.0\n",
              "14782    41                 8  ...     SANTUNAN BERKALA         4800000.0\n",
              "14783    41                 8  ...      BIAYA PEMAKAMAN         3000000.0\n",
              "\n",
              "[14706 rows x 12 columns]"
            ]
          },
          "metadata": {
            "tags": []
          },
          "execution_count": 24
        }
      ]
    },
    {
      "cell_type": "code",
      "metadata": {
        "id": "NXhIRXgDE3HG",
        "colab_type": "code",
        "colab": {}
      },
      "source": [
        "# Instatniate LabelEncoder\n",
        "le = LabelEncoder()\n",
        "# LabelEncode Class column of df to change discrete to continues\n",
        "data[\"KET_KLAIM\"] = le.fit_transform(data[\"KET_KLAIM\"])\n",
        "data[\"KODE_KLAIM\"] = le.fit_transform(data[\"KODE_KLAIM\"])\n",
        "data[\"STATUS_AGENDA\"] = le.fit_transform(data[\"STATUS_AGENDA\"])\n",
        "data[\"STATUS_PENETAPAN\"] = le.fit_transform(data[\"STATUS_PENETAPAN\"])\n",
        "data[\"KET_STATUS_AGENDA\"] = le.fit_transform(data[\"KET_STATUS_AGENDA\"])\n",
        "data[\"X_RINCIAN_MNFT\"] = le.fit_transform(data[\"X_RINCIAN_MNFT\"])\n",
        "data[\"JENIS_KELAMIN\"] = le.fit_transform(data[\"JENIS_KELAMIN\"])"
      ],
      "execution_count": 0,
      "outputs": []
    },
    {
      "cell_type": "code",
      "metadata": {
        "id": "3d-4TUhLuq55",
        "colab_type": "code",
        "outputId": "534b6092-ad32-4863-e3f0-4203cb2eb2b5",
        "colab": {
          "base_uri": "https://localhost:8080/",
          "height": 439
        }
      },
      "source": [
        "data"
      ],
      "execution_count": 46,
      "outputs": [
        {
          "output_type": "execute_result",
          "data": {
            "text/html": [
              "<div>\n",
              "<style scoped>\n",
              "    .dataframe tbody tr th:only-of-type {\n",
              "        vertical-align: middle;\n",
              "    }\n",
              "\n",
              "    .dataframe tbody tr th {\n",
              "        vertical-align: top;\n",
              "    }\n",
              "\n",
              "    .dataframe thead th {\n",
              "        text-align: right;\n",
              "    }\n",
              "</style>\n",
              "<table border=\"1\" class=\"dataframe\">\n",
              "  <thead>\n",
              "    <tr style=\"text-align: right;\">\n",
              "      <th></th>\n",
              "      <th>UMUR</th>\n",
              "      <th>LAMA_KEPESERTAAN</th>\n",
              "      <th>JENIS_KELAMIN</th>\n",
              "      <th>KODE_KLAIM</th>\n",
              "      <th>KET_KLAIM</th>\n",
              "      <th>LAMA_AGENDA</th>\n",
              "      <th>LAMA_PENETAPAN</th>\n",
              "      <th>STATUS_AGENDA</th>\n",
              "      <th>STATUS_PENETAPAN</th>\n",
              "      <th>KET_STATUS_AGENDA</th>\n",
              "      <th>X_RINCIAN_MNFT</th>\n",
              "      <th>X_BIAYA_DISETUJUI</th>\n",
              "    </tr>\n",
              "  </thead>\n",
              "  <tbody>\n",
              "    <tr>\n",
              "      <th>0</th>\n",
              "      <td>48</td>\n",
              "      <td>8</td>\n",
              "      <td>0</td>\n",
              "      <td>0</td>\n",
              "      <td>3</td>\n",
              "      <td>4</td>\n",
              "      <td>4</td>\n",
              "      <td>3</td>\n",
              "      <td>3</td>\n",
              "      <td>3</td>\n",
              "      <td>2</td>\n",
              "      <td>4800000.0</td>\n",
              "    </tr>\n",
              "    <tr>\n",
              "      <th>1</th>\n",
              "      <td>48</td>\n",
              "      <td>8</td>\n",
              "      <td>0</td>\n",
              "      <td>0</td>\n",
              "      <td>3</td>\n",
              "      <td>4</td>\n",
              "      <td>4</td>\n",
              "      <td>3</td>\n",
              "      <td>3</td>\n",
              "      <td>3</td>\n",
              "      <td>1</td>\n",
              "      <td>3000000.0</td>\n",
              "    </tr>\n",
              "    <tr>\n",
              "      <th>2</th>\n",
              "      <td>48</td>\n",
              "      <td>8</td>\n",
              "      <td>0</td>\n",
              "      <td>0</td>\n",
              "      <td>3</td>\n",
              "      <td>4</td>\n",
              "      <td>4</td>\n",
              "      <td>3</td>\n",
              "      <td>3</td>\n",
              "      <td>3</td>\n",
              "      <td>3</td>\n",
              "      <td>16200000.0</td>\n",
              "    </tr>\n",
              "    <tr>\n",
              "      <th>3</th>\n",
              "      <td>48</td>\n",
              "      <td>8</td>\n",
              "      <td>0</td>\n",
              "      <td>0</td>\n",
              "      <td>3</td>\n",
              "      <td>4</td>\n",
              "      <td>4</td>\n",
              "      <td>3</td>\n",
              "      <td>3</td>\n",
              "      <td>3</td>\n",
              "      <td>0</td>\n",
              "      <td>0.0</td>\n",
              "    </tr>\n",
              "    <tr>\n",
              "      <th>4</th>\n",
              "      <td>64</td>\n",
              "      <td>8</td>\n",
              "      <td>0</td>\n",
              "      <td>0</td>\n",
              "      <td>3</td>\n",
              "      <td>4</td>\n",
              "      <td>4</td>\n",
              "      <td>3</td>\n",
              "      <td>3</td>\n",
              "      <td>3</td>\n",
              "      <td>3</td>\n",
              "      <td>16200000.0</td>\n",
              "    </tr>\n",
              "    <tr>\n",
              "      <th>...</th>\n",
              "      <td>...</td>\n",
              "      <td>...</td>\n",
              "      <td>...</td>\n",
              "      <td>...</td>\n",
              "      <td>...</td>\n",
              "      <td>...</td>\n",
              "      <td>...</td>\n",
              "      <td>...</td>\n",
              "      <td>...</td>\n",
              "      <td>...</td>\n",
              "      <td>...</td>\n",
              "      <td>...</td>\n",
              "    </tr>\n",
              "    <tr>\n",
              "      <th>14779</th>\n",
              "      <td>36</td>\n",
              "      <td>8</td>\n",
              "      <td>0</td>\n",
              "      <td>0</td>\n",
              "      <td>3</td>\n",
              "      <td>4</td>\n",
              "      <td>4</td>\n",
              "      <td>3</td>\n",
              "      <td>3</td>\n",
              "      <td>3</td>\n",
              "      <td>0</td>\n",
              "      <td>0.0</td>\n",
              "    </tr>\n",
              "    <tr>\n",
              "      <th>14780</th>\n",
              "      <td>41</td>\n",
              "      <td>8</td>\n",
              "      <td>0</td>\n",
              "      <td>0</td>\n",
              "      <td>3</td>\n",
              "      <td>4</td>\n",
              "      <td>4</td>\n",
              "      <td>3</td>\n",
              "      <td>3</td>\n",
              "      <td>3</td>\n",
              "      <td>0</td>\n",
              "      <td>0.0</td>\n",
              "    </tr>\n",
              "    <tr>\n",
              "      <th>14781</th>\n",
              "      <td>41</td>\n",
              "      <td>8</td>\n",
              "      <td>0</td>\n",
              "      <td>0</td>\n",
              "      <td>3</td>\n",
              "      <td>4</td>\n",
              "      <td>4</td>\n",
              "      <td>3</td>\n",
              "      <td>3</td>\n",
              "      <td>3</td>\n",
              "      <td>3</td>\n",
              "      <td>16200000.0</td>\n",
              "    </tr>\n",
              "    <tr>\n",
              "      <th>14782</th>\n",
              "      <td>41</td>\n",
              "      <td>8</td>\n",
              "      <td>0</td>\n",
              "      <td>0</td>\n",
              "      <td>3</td>\n",
              "      <td>4</td>\n",
              "      <td>4</td>\n",
              "      <td>3</td>\n",
              "      <td>3</td>\n",
              "      <td>3</td>\n",
              "      <td>2</td>\n",
              "      <td>4800000.0</td>\n",
              "    </tr>\n",
              "    <tr>\n",
              "      <th>14783</th>\n",
              "      <td>41</td>\n",
              "      <td>8</td>\n",
              "      <td>0</td>\n",
              "      <td>0</td>\n",
              "      <td>3</td>\n",
              "      <td>4</td>\n",
              "      <td>4</td>\n",
              "      <td>3</td>\n",
              "      <td>3</td>\n",
              "      <td>3</td>\n",
              "      <td>1</td>\n",
              "      <td>3000000.0</td>\n",
              "    </tr>\n",
              "  </tbody>\n",
              "</table>\n",
              "<p>14706 rows × 12 columns</p>\n",
              "</div>"
            ],
            "text/plain": [
              "       UMUR  LAMA_KEPESERTAAN  ...  X_RINCIAN_MNFT  X_BIAYA_DISETUJUI\n",
              "0        48                 8  ...               2          4800000.0\n",
              "1        48                 8  ...               1          3000000.0\n",
              "2        48                 8  ...               3         16200000.0\n",
              "3        48                 8  ...               0                0.0\n",
              "4        64                 8  ...               3         16200000.0\n",
              "...     ...               ...  ...             ...                ...\n",
              "14779    36                 8  ...               0                0.0\n",
              "14780    41                 8  ...               0                0.0\n",
              "14781    41                 8  ...               3         16200000.0\n",
              "14782    41                 8  ...               2          4800000.0\n",
              "14783    41                 8  ...               1          3000000.0\n",
              "\n",
              "[14706 rows x 12 columns]"
            ]
          },
          "metadata": {
            "tags": []
          },
          "execution_count": 46
        }
      ]
    },
    {
      "cell_type": "code",
      "metadata": {
        "id": "BCpX965ku4gs",
        "colab_type": "code",
        "colab": {}
      },
      "source": [
        "train_dataset = data.sample(frac=0.8,random_state=0)\n",
        "test_dataset = data.drop(train_dataset.index)"
      ],
      "execution_count": 0,
      "outputs": []
    },
    {
      "cell_type": "code",
      "metadata": {
        "id": "BmAcT7p8u9CQ",
        "colab_type": "code",
        "colab": {}
      },
      "source": [
        "test_dataset"
      ],
      "execution_count": 0,
      "outputs": []
    },
    {
      "cell_type": "code",
      "metadata": {
        "id": "H5Xc5iw6x5Lc",
        "colab_type": "code",
        "outputId": "2d2e13f5-ae04-454a-d646-50b41c9a5632",
        "colab": {
          "base_uri": "https://localhost:8080/",
          "height": 390
        }
      },
      "source": [
        "#calculate decrictive statistic\n",
        "train_stats = train_dataset.describe()\n",
        "train_stats.pop(\"X_BIAYA_DISETUJUI\")\n",
        "train_stats = train_stats.transpose()\n",
        "train_stats"
      ],
      "execution_count": 48,
      "outputs": [
        {
          "output_type": "execute_result",
          "data": {
            "text/html": [
              "<div>\n",
              "<style scoped>\n",
              "    .dataframe tbody tr th:only-of-type {\n",
              "        vertical-align: middle;\n",
              "    }\n",
              "\n",
              "    .dataframe tbody tr th {\n",
              "        vertical-align: top;\n",
              "    }\n",
              "\n",
              "    .dataframe thead th {\n",
              "        text-align: right;\n",
              "    }\n",
              "</style>\n",
              "<table border=\"1\" class=\"dataframe\">\n",
              "  <thead>\n",
              "    <tr style=\"text-align: right;\">\n",
              "      <th></th>\n",
              "      <th>count</th>\n",
              "      <th>mean</th>\n",
              "      <th>std</th>\n",
              "      <th>min</th>\n",
              "      <th>25%</th>\n",
              "      <th>50%</th>\n",
              "      <th>75%</th>\n",
              "      <th>max</th>\n",
              "    </tr>\n",
              "  </thead>\n",
              "  <tbody>\n",
              "    <tr>\n",
              "      <th>UMUR</th>\n",
              "      <td>11765.0</td>\n",
              "      <td>45.994305</td>\n",
              "      <td>17.464071</td>\n",
              "      <td>-30.0</td>\n",
              "      <td>40.0</td>\n",
              "      <td>50.0</td>\n",
              "      <td>57.0</td>\n",
              "      <td>70.0</td>\n",
              "    </tr>\n",
              "    <tr>\n",
              "      <th>LAMA_KEPESERTAAN</th>\n",
              "      <td>11765.0</td>\n",
              "      <td>14.106842</td>\n",
              "      <td>9.335016</td>\n",
              "      <td>4.0</td>\n",
              "      <td>7.0</td>\n",
              "      <td>10.0</td>\n",
              "      <td>20.0</td>\n",
              "      <td>42.0</td>\n",
              "    </tr>\n",
              "    <tr>\n",
              "      <th>JENIS_KELAMIN</th>\n",
              "      <td>11765.0</td>\n",
              "      <td>0.183255</td>\n",
              "      <td>0.386892</td>\n",
              "      <td>0.0</td>\n",
              "      <td>0.0</td>\n",
              "      <td>0.0</td>\n",
              "      <td>0.0</td>\n",
              "      <td>1.0</td>\n",
              "    </tr>\n",
              "    <tr>\n",
              "      <th>KODE_KLAIM</th>\n",
              "      <td>11765.0</td>\n",
              "      <td>0.404505</td>\n",
              "      <td>0.880962</td>\n",
              "      <td>0.0</td>\n",
              "      <td>0.0</td>\n",
              "      <td>0.0</td>\n",
              "      <td>0.0</td>\n",
              "      <td>3.0</td>\n",
              "    </tr>\n",
              "    <tr>\n",
              "      <th>KET_KLAIM</th>\n",
              "      <td>11765.0</td>\n",
              "      <td>2.643349</td>\n",
              "      <td>0.817892</td>\n",
              "      <td>0.0</td>\n",
              "      <td>3.0</td>\n",
              "      <td>3.0</td>\n",
              "      <td>3.0</td>\n",
              "      <td>3.0</td>\n",
              "    </tr>\n",
              "    <tr>\n",
              "      <th>LAMA_AGENDA</th>\n",
              "      <td>11765.0</td>\n",
              "      <td>4.089078</td>\n",
              "      <td>0.329942</td>\n",
              "      <td>4.0</td>\n",
              "      <td>4.0</td>\n",
              "      <td>4.0</td>\n",
              "      <td>4.0</td>\n",
              "      <td>6.0</td>\n",
              "    </tr>\n",
              "    <tr>\n",
              "      <th>LAMA_PENETAPAN</th>\n",
              "      <td>11765.0</td>\n",
              "      <td>4.088483</td>\n",
              "      <td>0.331002</td>\n",
              "      <td>3.0</td>\n",
              "      <td>4.0</td>\n",
              "      <td>4.0</td>\n",
              "      <td>4.0</td>\n",
              "      <td>6.0</td>\n",
              "    </tr>\n",
              "    <tr>\n",
              "      <th>STATUS_AGENDA</th>\n",
              "      <td>11765.0</td>\n",
              "      <td>2.834424</td>\n",
              "      <td>0.680611</td>\n",
              "      <td>0.0</td>\n",
              "      <td>3.0</td>\n",
              "      <td>3.0</td>\n",
              "      <td>3.0</td>\n",
              "      <td>3.0</td>\n",
              "    </tr>\n",
              "    <tr>\n",
              "      <th>STATUS_PENETAPAN</th>\n",
              "      <td>11765.0</td>\n",
              "      <td>2.834424</td>\n",
              "      <td>0.680611</td>\n",
              "      <td>0.0</td>\n",
              "      <td>3.0</td>\n",
              "      <td>3.0</td>\n",
              "      <td>3.0</td>\n",
              "      <td>3.0</td>\n",
              "    </tr>\n",
              "    <tr>\n",
              "      <th>KET_STATUS_AGENDA</th>\n",
              "      <td>11765.0</td>\n",
              "      <td>2.834424</td>\n",
              "      <td>0.680611</td>\n",
              "      <td>0.0</td>\n",
              "      <td>3.0</td>\n",
              "      <td>3.0</td>\n",
              "      <td>3.0</td>\n",
              "      <td>3.0</td>\n",
              "    </tr>\n",
              "    <tr>\n",
              "      <th>X_RINCIAN_MNFT</th>\n",
              "      <td>11765.0</td>\n",
              "      <td>1.552061</td>\n",
              "      <td>1.101503</td>\n",
              "      <td>0.0</td>\n",
              "      <td>1.0</td>\n",
              "      <td>2.0</td>\n",
              "      <td>3.0</td>\n",
              "      <td>3.0</td>\n",
              "    </tr>\n",
              "  </tbody>\n",
              "</table>\n",
              "</div>"
            ],
            "text/plain": [
              "                     count       mean        std   min   25%   50%   75%   max\n",
              "UMUR               11765.0  45.994305  17.464071 -30.0  40.0  50.0  57.0  70.0\n",
              "LAMA_KEPESERTAAN   11765.0  14.106842   9.335016   4.0   7.0  10.0  20.0  42.0\n",
              "JENIS_KELAMIN      11765.0   0.183255   0.386892   0.0   0.0   0.0   0.0   1.0\n",
              "KODE_KLAIM         11765.0   0.404505   0.880962   0.0   0.0   0.0   0.0   3.0\n",
              "KET_KLAIM          11765.0   2.643349   0.817892   0.0   3.0   3.0   3.0   3.0\n",
              "LAMA_AGENDA        11765.0   4.089078   0.329942   4.0   4.0   4.0   4.0   6.0\n",
              "LAMA_PENETAPAN     11765.0   4.088483   0.331002   3.0   4.0   4.0   4.0   6.0\n",
              "STATUS_AGENDA      11765.0   2.834424   0.680611   0.0   3.0   3.0   3.0   3.0\n",
              "STATUS_PENETAPAN   11765.0   2.834424   0.680611   0.0   3.0   3.0   3.0   3.0\n",
              "KET_STATUS_AGENDA  11765.0   2.834424   0.680611   0.0   3.0   3.0   3.0   3.0\n",
              "X_RINCIAN_MNFT     11765.0   1.552061   1.101503   0.0   1.0   2.0   3.0   3.0"
            ]
          },
          "metadata": {
            "tags": []
          },
          "execution_count": 48
        }
      ]
    },
    {
      "cell_type": "code",
      "metadata": {
        "id": "pyJAV-8ryvsR",
        "colab_type": "code",
        "colab": {}
      },
      "source": [
        "train_labels = train_dataset.pop('X_BIAYA_DISETUJUI')"
      ],
      "execution_count": 0,
      "outputs": []
    },
    {
      "cell_type": "code",
      "metadata": {
        "id": "4SuDvqyNzHkT",
        "colab_type": "code",
        "outputId": "6a8fc23e-933c-4cae-b87d-38e38584e9e0",
        "colab": {
          "base_uri": "https://localhost:8080/",
          "height": 221
        }
      },
      "source": [
        "train_labels"
      ],
      "execution_count": 50,
      "outputs": [
        {
          "output_type": "execute_result",
          "data": {
            "text/plain": [
              "10266     4800000.0\n",
              "4987            0.0\n",
              "1538     16200000.0\n",
              "6213     16200000.0\n",
              "1097      3000000.0\n",
              "            ...    \n",
              "6126      2000000.0\n",
              "10504    14200000.0\n",
              "5444      3000000.0\n",
              "6687     16200000.0\n",
              "3568      3000000.0\n",
              "Name: X_BIAYA_DISETUJUI, Length: 11765, dtype: float64"
            ]
          },
          "metadata": {
            "tags": []
          },
          "execution_count": 50
        }
      ]
    },
    {
      "cell_type": "code",
      "metadata": {
        "id": "w_UyaUnCzLoT",
        "colab_type": "code",
        "colab": {}
      },
      "source": [
        "test_labels = test_dataset.pop('X_BIAYA_DISETUJUI')"
      ],
      "execution_count": 0,
      "outputs": []
    },
    {
      "cell_type": "code",
      "metadata": {
        "id": "kVzUXDoxzP1a",
        "colab_type": "code",
        "outputId": "50961368-5203-49e5-822e-db3eb66cb71a",
        "colab": {
          "base_uri": "https://localhost:8080/",
          "height": 221
        }
      },
      "source": [
        "test_labels"
      ],
      "execution_count": 52,
      "outputs": [
        {
          "output_type": "execute_result",
          "data": {
            "text/plain": [
              "0         4800000.0\n",
              "13        2000000.0\n",
              "21        4800000.0\n",
              "25        3000000.0\n",
              "26       16200000.0\n",
              "            ...    \n",
              "14748    14200000.0\n",
              "14749     4800000.0\n",
              "14759    16200000.0\n",
              "14762    14200000.0\n",
              "14781    16200000.0\n",
              "Name: X_BIAYA_DISETUJUI, Length: 2941, dtype: float64"
            ]
          },
          "metadata": {
            "tags": []
          },
          "execution_count": 52
        }
      ]
    },
    {
      "cell_type": "code",
      "metadata": {
        "id": "Tizat2yozTGQ",
        "colab_type": "code",
        "colab": {}
      },
      "source": [
        "#normalisasi datasets\n",
        "def norm(x):\n",
        "  return (x - train_stats['mean']) / train_stats['std']\n",
        "normed_train_data = norm(train_dataset)\n",
        "normed_test_data = norm(test_dataset)"
      ],
      "execution_count": 0,
      "outputs": []
    },
    {
      "cell_type": "code",
      "metadata": {
        "id": "3r0OeheqLG6l",
        "colab_type": "code",
        "colab": {
          "base_uri": "https://localhost:8080/",
          "height": 439
        },
        "outputId": "9a4e50a7-d225-47c3-abab-71bc44b39f36"
      },
      "source": [
        "normed_test_data"
      ],
      "execution_count": 54,
      "outputs": [
        {
          "output_type": "execute_result",
          "data": {
            "text/html": [
              "<div>\n",
              "<style scoped>\n",
              "    .dataframe tbody tr th:only-of-type {\n",
              "        vertical-align: middle;\n",
              "    }\n",
              "\n",
              "    .dataframe tbody tr th {\n",
              "        vertical-align: top;\n",
              "    }\n",
              "\n",
              "    .dataframe thead th {\n",
              "        text-align: right;\n",
              "    }\n",
              "</style>\n",
              "<table border=\"1\" class=\"dataframe\">\n",
              "  <thead>\n",
              "    <tr style=\"text-align: right;\">\n",
              "      <th></th>\n",
              "      <th>UMUR</th>\n",
              "      <th>LAMA_KEPESERTAAN</th>\n",
              "      <th>JENIS_KELAMIN</th>\n",
              "      <th>KODE_KLAIM</th>\n",
              "      <th>KET_KLAIM</th>\n",
              "      <th>LAMA_AGENDA</th>\n",
              "      <th>LAMA_PENETAPAN</th>\n",
              "      <th>STATUS_AGENDA</th>\n",
              "      <th>STATUS_PENETAPAN</th>\n",
              "      <th>KET_STATUS_AGENDA</th>\n",
              "      <th>X_RINCIAN_MNFT</th>\n",
              "    </tr>\n",
              "  </thead>\n",
              "  <tbody>\n",
              "    <tr>\n",
              "      <th>0</th>\n",
              "      <td>0.114847</td>\n",
              "      <td>-0.654187</td>\n",
              "      <td>-0.47366</td>\n",
              "      <td>-0.459163</td>\n",
              "      <td>0.436061</td>\n",
              "      <td>-0.26998</td>\n",
              "      <td>-0.267318</td>\n",
              "      <td>0.243275</td>\n",
              "      <td>0.243275</td>\n",
              "      <td>0.243275</td>\n",
              "      <td>0.406661</td>\n",
              "    </tr>\n",
              "    <tr>\n",
              "      <th>13</th>\n",
              "      <td>0.572930</td>\n",
              "      <td>-0.654187</td>\n",
              "      <td>-0.47366</td>\n",
              "      <td>-0.459163</td>\n",
              "      <td>0.436061</td>\n",
              "      <td>-0.26998</td>\n",
              "      <td>-0.267318</td>\n",
              "      <td>0.243275</td>\n",
              "      <td>0.243275</td>\n",
              "      <td>0.243275</td>\n",
              "      <td>-0.501189</td>\n",
              "    </tr>\n",
              "    <tr>\n",
              "      <th>21</th>\n",
              "      <td>1.031014</td>\n",
              "      <td>-0.654187</td>\n",
              "      <td>-0.47366</td>\n",
              "      <td>-0.459163</td>\n",
              "      <td>0.436061</td>\n",
              "      <td>-0.26998</td>\n",
              "      <td>-0.267318</td>\n",
              "      <td>0.243275</td>\n",
              "      <td>0.243275</td>\n",
              "      <td>0.243275</td>\n",
              "      <td>0.406661</td>\n",
              "    </tr>\n",
              "    <tr>\n",
              "      <th>25</th>\n",
              "      <td>-0.973101</td>\n",
              "      <td>-0.654187</td>\n",
              "      <td>-0.47366</td>\n",
              "      <td>-0.459163</td>\n",
              "      <td>0.436061</td>\n",
              "      <td>-0.26998</td>\n",
              "      <td>-0.267318</td>\n",
              "      <td>0.243275</td>\n",
              "      <td>0.243275</td>\n",
              "      <td>0.243275</td>\n",
              "      <td>-0.501189</td>\n",
              "    </tr>\n",
              "    <tr>\n",
              "      <th>26</th>\n",
              "      <td>-0.973101</td>\n",
              "      <td>-0.654187</td>\n",
              "      <td>-0.47366</td>\n",
              "      <td>-0.459163</td>\n",
              "      <td>0.436061</td>\n",
              "      <td>-0.26998</td>\n",
              "      <td>-0.267318</td>\n",
              "      <td>0.243275</td>\n",
              "      <td>0.243275</td>\n",
              "      <td>0.243275</td>\n",
              "      <td>1.314512</td>\n",
              "    </tr>\n",
              "    <tr>\n",
              "      <th>...</th>\n",
              "      <td>...</td>\n",
              "      <td>...</td>\n",
              "      <td>...</td>\n",
              "      <td>...</td>\n",
              "      <td>...</td>\n",
              "      <td>...</td>\n",
              "      <td>...</td>\n",
              "      <td>...</td>\n",
              "      <td>...</td>\n",
              "      <td>...</td>\n",
              "      <td>...</td>\n",
              "    </tr>\n",
              "    <tr>\n",
              "      <th>14748</th>\n",
              "      <td>0.401149</td>\n",
              "      <td>-0.654187</td>\n",
              "      <td>-0.47366</td>\n",
              "      <td>-0.459163</td>\n",
              "      <td>0.436061</td>\n",
              "      <td>-0.26998</td>\n",
              "      <td>-0.267318</td>\n",
              "      <td>0.243275</td>\n",
              "      <td>0.243275</td>\n",
              "      <td>0.243275</td>\n",
              "      <td>1.314512</td>\n",
              "    </tr>\n",
              "    <tr>\n",
              "      <th>14749</th>\n",
              "      <td>0.401149</td>\n",
              "      <td>-0.654187</td>\n",
              "      <td>-0.47366</td>\n",
              "      <td>-0.459163</td>\n",
              "      <td>0.436061</td>\n",
              "      <td>-0.26998</td>\n",
              "      <td>-0.267318</td>\n",
              "      <td>0.243275</td>\n",
              "      <td>0.243275</td>\n",
              "      <td>0.243275</td>\n",
              "      <td>0.406661</td>\n",
              "    </tr>\n",
              "    <tr>\n",
              "      <th>14759</th>\n",
              "      <td>-0.228716</td>\n",
              "      <td>-0.654187</td>\n",
              "      <td>-0.47366</td>\n",
              "      <td>-0.459163</td>\n",
              "      <td>0.436061</td>\n",
              "      <td>-0.26998</td>\n",
              "      <td>-0.267318</td>\n",
              "      <td>0.243275</td>\n",
              "      <td>0.243275</td>\n",
              "      <td>0.243275</td>\n",
              "      <td>1.314512</td>\n",
              "    </tr>\n",
              "    <tr>\n",
              "      <th>14762</th>\n",
              "      <td>0.630191</td>\n",
              "      <td>-0.654187</td>\n",
              "      <td>-0.47366</td>\n",
              "      <td>-0.459163</td>\n",
              "      <td>0.436061</td>\n",
              "      <td>-0.26998</td>\n",
              "      <td>-0.267318</td>\n",
              "      <td>0.243275</td>\n",
              "      <td>0.243275</td>\n",
              "      <td>0.243275</td>\n",
              "      <td>1.314512</td>\n",
              "    </tr>\n",
              "    <tr>\n",
              "      <th>14781</th>\n",
              "      <td>-0.285976</td>\n",
              "      <td>-0.654187</td>\n",
              "      <td>-0.47366</td>\n",
              "      <td>-0.459163</td>\n",
              "      <td>0.436061</td>\n",
              "      <td>-0.26998</td>\n",
              "      <td>-0.267318</td>\n",
              "      <td>0.243275</td>\n",
              "      <td>0.243275</td>\n",
              "      <td>0.243275</td>\n",
              "      <td>1.314512</td>\n",
              "    </tr>\n",
              "  </tbody>\n",
              "</table>\n",
              "<p>2941 rows × 11 columns</p>\n",
              "</div>"
            ],
            "text/plain": [
              "           UMUR  LAMA_KEPESERTAAN  ...  KET_STATUS_AGENDA  X_RINCIAN_MNFT\n",
              "0      0.114847         -0.654187  ...           0.243275        0.406661\n",
              "13     0.572930         -0.654187  ...           0.243275       -0.501189\n",
              "21     1.031014         -0.654187  ...           0.243275        0.406661\n",
              "25    -0.973101         -0.654187  ...           0.243275       -0.501189\n",
              "26    -0.973101         -0.654187  ...           0.243275        1.314512\n",
              "...         ...               ...  ...                ...             ...\n",
              "14748  0.401149         -0.654187  ...           0.243275        1.314512\n",
              "14749  0.401149         -0.654187  ...           0.243275        0.406661\n",
              "14759 -0.228716         -0.654187  ...           0.243275        1.314512\n",
              "14762  0.630191         -0.654187  ...           0.243275        1.314512\n",
              "14781 -0.285976         -0.654187  ...           0.243275        1.314512\n",
              "\n",
              "[2941 rows x 11 columns]"
            ]
          },
          "metadata": {
            "tags": []
          },
          "execution_count": 54
        }
      ]
    },
    {
      "cell_type": "code",
      "metadata": {
        "id": "JaA4NuL60ku9",
        "colab_type": "code",
        "colab": {}
      },
      "source": [
        "def build_model():\n",
        "  model = keras.Sequential([\n",
        "    layers.Dense(64, activation='relu', input_shape=[len(train_dataset.keys())]),\n",
        "    layers.Dense(64, activation='relu'),\n",
        "    layers.Dense(1)\n",
        "  ])\n",
        "\n",
        "  optimizer = tf.keras.optimizers.RMSprop(0.001)\n",
        "\n",
        "  model.compile(loss='mse',\n",
        "                optimizer=optimizer,\n",
        "                metrics=['mae', 'mse'])\n",
        "  return model"
      ],
      "execution_count": 0,
      "outputs": []
    },
    {
      "cell_type": "code",
      "metadata": {
        "id": "YeT89cHV0n_D",
        "colab_type": "code",
        "colab": {}
      },
      "source": [
        "model = build_model()"
      ],
      "execution_count": 0,
      "outputs": []
    },
    {
      "cell_type": "code",
      "metadata": {
        "id": "56fjlb640r1Z",
        "colab_type": "code",
        "outputId": "d4ab9c75-879c-48bd-c5f3-1a8360b9038d",
        "colab": {
          "base_uri": "https://localhost:8080/",
          "height": 255
        }
      },
      "source": [
        "model.summary()"
      ],
      "execution_count": 57,
      "outputs": [
        {
          "output_type": "stream",
          "text": [
            "Model: \"sequential_1\"\n",
            "_________________________________________________________________\n",
            "Layer (type)                 Output Shape              Param #   \n",
            "=================================================================\n",
            "dense_3 (Dense)              (None, 64)                768       \n",
            "_________________________________________________________________\n",
            "dense_4 (Dense)              (None, 64)                4160      \n",
            "_________________________________________________________________\n",
            "dense_5 (Dense)              (None, 1)                 65        \n",
            "=================================================================\n",
            "Total params: 4,993\n",
            "Trainable params: 4,993\n",
            "Non-trainable params: 0\n",
            "_________________________________________________________________\n"
          ],
          "name": "stdout"
        }
      ]
    },
    {
      "cell_type": "code",
      "metadata": {
        "id": "sDESAMTT0u2t",
        "colab_type": "code",
        "outputId": "66e53f41-86c6-46f7-dc73-a9d1753a2671",
        "colab": {
          "base_uri": "https://localhost:8080/",
          "height": 187
        }
      },
      "source": [
        "#test model prediction\n",
        "example_batch = normed_train_data[:10]\n",
        "example_result = model.predict(example_batch)\n",
        "example_result"
      ],
      "execution_count": 58,
      "outputs": [
        {
          "output_type": "execute_result",
          "data": {
            "text/plain": [
              "array([[-0.03096308],\n",
              "       [-0.17585298],\n",
              "       [-0.07800715],\n",
              "       [ 0.03217324],\n",
              "       [-0.12866756],\n",
              "       [ 0.57504284],\n",
              "       [-0.24279782],\n",
              "       [-0.20104873],\n",
              "       [-0.14024736],\n",
              "       [-0.20498821]], dtype=float32)"
            ]
          },
          "metadata": {
            "tags": []
          },
          "execution_count": 58
        }
      ]
    },
    {
      "cell_type": "code",
      "metadata": {
        "id": "Ebqcyqnf2Lwn",
        "colab_type": "code",
        "outputId": "9f1c62c4-4aea-4b08-f865-e2dbc0e45eb9",
        "colab": {
          "base_uri": "https://localhost:8080/",
          "height": 734
        }
      },
      "source": [
        "EPOCHS = 1000\n",
        "\n",
        "history = model.fit(\n",
        "  normed_train_data, train_labels,\n",
        "  epochs=EPOCHS, validation_split = 0.2, verbose=0,\n",
        "  callbacks=[tfdocs.modeling.EpochDots()])"
      ],
      "execution_count": 59,
      "outputs": [
        {
          "output_type": "stream",
          "text": [
            "\n",
            "Epoch: 0, loss:73382594871296.0000,  mae:5934544.0000,  mse:73577856499712.0000,  val_loss:72426016735232.0000,  val_mae:5905540.5000,  val_mse:72576525139968.0000,  \n",
            "....................................................................................................\n",
            "Epoch: 100, loss:7447019782144.0000,  mae:1387811.6250,  mse:7465924034560.0000,  val_loss:7740296527872.0000,  val_mae:1431698.6250,  val_mse:7771181285376.0000,  \n",
            "....................................................................................................\n",
            "Epoch: 200, loss:5734683639808.0000,  mae:638080.6875,  mse:5751326113792.0000,  val_loss:6043569487872.0000,  val_mae:655734.6875,  val_mse:6078199234560.0000,  \n",
            "....................................................................................................\n",
            "Epoch: 300, loss:5602146254848.0000,  mae:572238.1875,  mse:5618460000256.0000,  val_loss:5910154969088.0000,  val_mae:596885.5625,  val_mse:5945279643648.0000,  \n",
            "....................................................................................................\n",
            "Epoch: 400, loss:5537948762112.0000,  mae:528979.6875,  mse:5554230001664.0000,  val_loss:5845897183232.0000,  val_mae:555952.5000,  val_mse:5881268273152.0000,  \n",
            "....................................................................................................\n",
            "Epoch: 500, loss:5489323671552.0000,  mae:487000.1875,  mse:5505224802304.0000,  val_loss:5805921796096.0000,  val_mae:517431.0625,  val_mse:5841455939584.0000,  \n",
            "....................................................................................................\n",
            "Epoch: 600, loss:5474039103488.0000,  mae:463673.7188,  mse:5488372613120.0000,  val_loss:5784648810496.0000,  val_mae:500830.2812,  val_mse:5820321366016.0000,  \n",
            "....................................................................................................\n",
            "Epoch: 700, loss:5459440828416.0000,  mae:451278.3750,  mse:5475127001088.0000,  val_loss:5781691826176.0000,  val_mae:479904.7500,  val_mse:5817528483840.0000,  \n",
            "....................................................................................................\n",
            "Epoch: 800, loss:5447618658304.0000,  mae:445509.5312,  mse:5463692804096.0000,  val_loss:5779627704320.0000,  val_mae:473010.5312,  val_mse:5815549296640.0000,  \n",
            "....................................................................................................\n",
            "Epoch: 900, loss:5441793294336.0000,  mae:435597.3125,  mse:5455935963136.0000,  val_loss:5775395651584.0000,  val_mae:466250.3750,  val_mse:5811415285760.0000,  \n",
            "....................................................................................................\n",
            "Epoch: 1000, loss:5436112109568.0000,  mae:427128.9688,  mse:5452232392704.0000,  val_loss:5769125167104.0000,  val_mae:465434.9375,  val_mse:5805199327232.0000,  \n",
            "....................................................................................................\n",
            "Epoch: 1100, loss:5443974856704.0000,  mae:419227.5938,  mse:5457797185536.0000,  val_loss:5781553414144.0000,  val_mae:459604.1562,  val_mse:5817692585984.0000,  \n",
            "....................................................................................................\n",
            "Epoch: 1200, loss:5438088675328.0000,  mae:420157.1562,  mse:5454192705536.0000,  val_loss:5779222429696.0000,  val_mae:450762.8750,  val_mse:5815446011904.0000,  \n",
            "....................................................................................................\n",
            "Epoch: 1300, loss:5437239853056.0000,  mae:420397.0625,  mse:5453285163008.0000,  val_loss:5788020506624.0000,  val_mae:443645.3750,  val_mse:5824331644928.0000,  \n",
            "....................................................................................................\n",
            "Epoch: 1400, loss:5437169598464.0000,  mae:410033.3750,  mse:5452665978880.0000,  val_loss:5790008606720.0000,  val_mae:443917.4062,  val_mse:5826333376512.0000,  \n",
            "....................................................................................................\n",
            "Epoch: 1500, loss:5432886689792.0000,  mae:405112.9688,  mse:5447823130624.0000,  val_loss:5776654991360.0000,  val_mae:439940.8750,  val_mse:5812931002368.0000,  \n",
            "....................................................................................................\n",
            "Epoch: 1600, loss:5431507812352.0000,  mae:398820.0625,  mse:5447607648256.0000,  val_loss:5777293574144.0000,  val_mae:434618.5312,  val_mse:5813576925184.0000,  \n",
            "....................................................................................................\n",
            "Epoch: 1700, loss:5428494204928.0000,  mae:398273.2500,  mse:5444335566848.0000,  val_loss:5787732672512.0000,  val_mae:426955.3750,  val_mse:5824050102272.0000,  \n",
            "....................................................................................................\n",
            "Epoch: 1800, loss:5426660769792.0000,  mae:400502.7188,  mse:5442556133376.0000,  val_loss:5779912392704.0000,  val_mae:425906.4688,  val_mse:5816214093824.0000,  \n",
            "....................................................................................................\n",
            "Epoch: 1900, loss:5427582992384.0000,  mae:397955.4688,  mse:5443722149888.0000,  val_loss:5777297768448.0000,  val_mae:425680.3125,  val_mse:5813583216640.0000,  \n",
            "...................................................................................................."
          ],
          "name": "stdout"
        }
      ]
    },
    {
      "cell_type": "code",
      "metadata": {
        "id": "kT0UWyNO53cv",
        "colab_type": "code",
        "outputId": "e1aef873-7350-44ee-ff7e-a8a0f05e22e6",
        "colab": {
          "base_uri": "https://localhost:8080/",
          "height": 204
        }
      },
      "source": [
        "hist = pd.DataFrame(history.history)\n",
        "hist['epoch'] = history.epoch\n",
        "hist.tail()"
      ],
      "execution_count": 60,
      "outputs": [
        {
          "output_type": "execute_result",
          "data": {
            "text/html": [
              "<div>\n",
              "<style scoped>\n",
              "    .dataframe tbody tr th:only-of-type {\n",
              "        vertical-align: middle;\n",
              "    }\n",
              "\n",
              "    .dataframe tbody tr th {\n",
              "        vertical-align: top;\n",
              "    }\n",
              "\n",
              "    .dataframe thead th {\n",
              "        text-align: right;\n",
              "    }\n",
              "</style>\n",
              "<table border=\"1\" class=\"dataframe\">\n",
              "  <thead>\n",
              "    <tr style=\"text-align: right;\">\n",
              "      <th></th>\n",
              "      <th>loss</th>\n",
              "      <th>mae</th>\n",
              "      <th>mse</th>\n",
              "      <th>val_loss</th>\n",
              "      <th>val_mae</th>\n",
              "      <th>val_mse</th>\n",
              "      <th>epoch</th>\n",
              "    </tr>\n",
              "  </thead>\n",
              "  <tbody>\n",
              "    <tr>\n",
              "      <th>1995</th>\n",
              "      <td>5.427924e+12</td>\n",
              "      <td>397874.53125</td>\n",
              "      <td>5.443699e+12</td>\n",
              "      <td>5.775153e+12</td>\n",
              "      <td>425399.15625</td>\n",
              "      <td>5.811429e+12</td>\n",
              "      <td>1995</td>\n",
              "    </tr>\n",
              "    <tr>\n",
              "      <th>1996</th>\n",
              "      <td>5.426373e+12</td>\n",
              "      <td>395062.21875</td>\n",
              "      <td>5.442260e+12</td>\n",
              "      <td>5.775706e+12</td>\n",
              "      <td>418222.65625</td>\n",
              "      <td>5.812018e+12</td>\n",
              "      <td>1996</td>\n",
              "    </tr>\n",
              "    <tr>\n",
              "      <th>1997</th>\n",
              "      <td>5.427417e+12</td>\n",
              "      <td>392210.21875</td>\n",
              "      <td>5.443561e+12</td>\n",
              "      <td>5.775214e+12</td>\n",
              "      <td>422024.50000</td>\n",
              "      <td>5.811512e+12</td>\n",
              "      <td>1997</td>\n",
              "    </tr>\n",
              "    <tr>\n",
              "      <th>1998</th>\n",
              "      <td>5.428775e+12</td>\n",
              "      <td>392908.03125</td>\n",
              "      <td>5.442716e+12</td>\n",
              "      <td>5.770770e+12</td>\n",
              "      <td>427589.12500</td>\n",
              "      <td>5.807036e+12</td>\n",
              "      <td>1998</td>\n",
              "    </tr>\n",
              "    <tr>\n",
              "      <th>1999</th>\n",
              "      <td>5.427046e+12</td>\n",
              "      <td>397331.25000</td>\n",
              "      <td>5.443044e+12</td>\n",
              "      <td>5.773401e+12</td>\n",
              "      <td>422818.68750</td>\n",
              "      <td>5.809686e+12</td>\n",
              "      <td>1999</td>\n",
              "    </tr>\n",
              "  </tbody>\n",
              "</table>\n",
              "</div>"
            ],
            "text/plain": [
              "              loss           mae  ...       val_mse  epoch\n",
              "1995  5.427924e+12  397874.53125  ...  5.811429e+12   1995\n",
              "1996  5.426373e+12  395062.21875  ...  5.812018e+12   1996\n",
              "1997  5.427417e+12  392210.21875  ...  5.811512e+12   1997\n",
              "1998  5.428775e+12  392908.03125  ...  5.807036e+12   1998\n",
              "1999  5.427046e+12  397331.25000  ...  5.809686e+12   1999\n",
              "\n",
              "[5 rows x 7 columns]"
            ]
          },
          "metadata": {
            "tags": []
          },
          "execution_count": 60
        }
      ]
    },
    {
      "cell_type": "code",
      "metadata": {
        "id": "_oqQz5-f6L7f",
        "colab_type": "code",
        "colab": {}
      },
      "source": [
        "import matplotlib.pyplot as plt"
      ],
      "execution_count": 0,
      "outputs": []
    },
    {
      "cell_type": "code",
      "metadata": {
        "id": "esWZxMyJ6AkA",
        "colab_type": "code",
        "colab": {}
      },
      "source": [
        "plotter = tfdocs.plots.HistoryPlotter(smoothing_std=6)\n",
        "\n",
        "plotter.plot({'Basic': history}, metric = \"mae\")\n",
        "plt.ylim([0, 10])\n",
        "plt.ylabel('MAE [X_BIAYA_DISETUJUI]')"
      ],
      "execution_count": 0,
      "outputs": []
    },
    {
      "cell_type": "code",
      "metadata": {
        "id": "s_NyEQgjRMNg",
        "colab_type": "code",
        "colab": {
          "base_uri": "https://localhost:8080/",
          "height": 224
        },
        "outputId": "de09a394-e543-4706-820a-927d177adbef"
      },
      "source": [
        "model = build_model()\n",
        "\n",
        "# The patience parameter is the amount of epochs to check for improvement\n",
        "early_stop = keras.callbacks.EarlyStopping(monitor='val_loss', patience=10)\n",
        "\n",
        "early_history = model.fit(normed_train_data, train_labels, \n",
        "                    epochs=EPOCHS, validation_split = 0.2, verbose=0, \n",
        "                    callbacks=[early_stop, tfdocs.modeling.EpochDots()])"
      ],
      "execution_count": 64,
      "outputs": [
        {
          "output_type": "stream",
          "text": [
            "\n",
            "Epoch: 0, loss:73758706499584.0000,  mae:5934559.5000,  mse:73578099769344.0000,  val_loss:72426754932736.0000,  val_mae:5905578.5000,  val_mse:72577254948864.0000,  \n",
            "....................................................................................................\n",
            "Epoch: 100, loss:7510631120896.0000,  mae:1402950.1250,  mse:7528748417024.0000,  val_loss:7796154695680.0000,  val_mae:1445393.6250,  val_mse:7826784649216.0000,  \n",
            "....................................................................................................\n",
            "Epoch: 200, loss:5787697020928.0000,  mae:654038.1250,  mse:5803137302528.0000,  val_loss:6086529646592.0000,  val_mae:670590.1250,  val_mse:6120715845632.0000,  \n",
            "....................................................................................................\n",
            "Epoch: 300, loss:5653024210944.0000,  mae:589289.3750,  mse:5669654102016.0000,  val_loss:5951415910400.0000,  val_mae:612774.3750,  val_mse:5986269003776.0000,  \n",
            "....................................................................................................\n",
            "Epoch: 400, loss:5576775434240.0000,  mae:551709.2500,  mse:5591341727744.0000,  val_loss:5877562605568.0000,  val_mae:577272.7500,  val_mse:5912898568192.0000,  \n",
            "........................................................"
          ],
          "name": "stdout"
        }
      ]
    },
    {
      "cell_type": "code",
      "metadata": {
        "id": "ffqJjwo_HDpJ",
        "colab_type": "code",
        "colab": {
          "base_uri": "https://localhost:8080/",
          "height": 51
        },
        "outputId": "20912afe-72a3-4e0d-e323-136ffee62d2d"
      },
      "source": [
        "loss, mae, mse = model.evaluate(normed_test_data, test_labels, verbose=2)\n",
        "\n",
        "print(\"Testing set Mean Abs Error: {:5.2f} X_BIAYA_DISETUJUI\".format(mae))"
      ],
      "execution_count": 65,
      "outputs": [
        {
          "output_type": "stream",
          "text": [
            "92/92 - 0s - loss: 11913047048192.0000 - mae: 615850.0625 - mse: 11924444020736.0000\n",
            "Testing set Mean Abs Error: 615850.06 X_BIAYA_DISETUJUI\n"
          ],
          "name": "stdout"
        }
      ]
    },
    {
      "cell_type": "code",
      "metadata": {
        "id": "yYVYctCpVP6v",
        "colab_type": "code",
        "colab": {
          "base_uri": "https://localhost:8080/",
          "height": 283
        },
        "outputId": "96c19b93-8ef5-4e89-a736-5514346b4a65"
      },
      "source": [
        "test_predictions = model.predict(normed_test_data).flatten()\n",
        "\n",
        "a = plt.axes(aspect='equal')\n",
        "plt.scatter(test_labels, test_predictions)\n",
        "plt.xlabel('True Values [MPG]')\n",
        "plt.ylabel('Predictions [MPG]')\n",
        "lims = [0, 50]\n",
        "plt.xlim(lims)\n",
        "plt.ylim(lims)\n",
        "_ = plt.plot(lims, lims)"
      ],
      "execution_count": 68,
      "outputs": [
        {
          "output_type": "display_data",
          "data": {
            "image/png": "[encoded data removed]",
            "text/plain": [
              "<Figure size 432x288 with 1 Axes>"
            ]
          },
          "metadata": {
            "tags": []
          }
        }
      ]
    },
    {
      "cell_type": "code",
      "metadata": {
        "id": "_ul5af0xVeN6",
        "colab_type": "code",
        "colab": {
          "base_uri": "https://localhost:8080/",
          "height": 279
        },
        "outputId": "505954c7-e58e-4ad5-a6a8-b59d6c3cd656"
      },
      "source": [
        "error = test_predictions - test_labels\n",
        "plt.hist(error, bins = 25)\n",
        "plt.xlabel(\"Prediction Error [MPG]\")\n",
        "_ = plt.ylabel(\"Count\")"
      ],
      "execution_count": 69,
      "outputs": [
        {
          "output_type": "display_data",
          "data": {
            "image/png": "[encoded data removed]",
            "text/plain": [
              "<Figure size 432x288 with 1 Axes>"
            ]
          },
          "metadata": {
            "tags": []
          }
        }
      ]
    }
  ]
}